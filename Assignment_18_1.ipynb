{
 "cells": [
  {
   "cell_type": "code",
   "execution_count": 24,
   "metadata": {},
   "outputs": [
    {
     "name": "stdout",
     "output_type": "stream",
     "text": [
      "14.60593486680443 1.95\n",
      "Reject the Null Hypothesis\n"
     ]
    }
   ],
   "source": [
    "#Question: Blood glucose levels for obese patients have a mean of 100 with a standard deviation of 15. \n",
    "#A researcher thinks that a diet high in raw cornstarch will have a positive effect on\n",
    "#blood glucose levels. A sample of 36 patients who have tried the raw cornstarch diet\n",
    "#have a mean glucose level of 108. Test the hypothesis that the raw cornstarch had an effect or not.\n",
    "\n",
    "import math\n",
    "# Formula, Z = (x-mu)/(sigma/sqrt(n))\n",
    "\n",
    "# Null hypothesis is H0 = 100 and alternate hypothesis is H1 <> 100\n",
    "\n",
    "x,mu, sigma, n = 140,100,15,30\n",
    "alpha = 0.05\n",
    "tail = 2\n",
    "alpha_level = (1-alpha/tail)*2\n",
    "z = (x-mu)/(sigma/math.sqrt(n))\n",
    "print(z, alpha_level)\n",
    "\n",
    "if z < -alpha_level or z > alpha_level:\n",
    "    print(\"Reject the Null Hypothesis\")\n",
    "if (z < (-alpha_level)) or (z < alpha_level):\n",
    "    print(\"Reject the Alternate Hypothesis\")"
   ]
  },
  {
   "cell_type": "code",
   "execution_count": null,
   "metadata": {},
   "outputs": [],
   "source": []
  },
  {
   "cell_type": "code",
   "execution_count": null,
   "metadata": {},
   "outputs": [],
   "source": []
  }
 ],
 "metadata": {
  "kernelspec": {
   "display_name": "Python 3",
   "language": "python",
   "name": "python3"
  },
  "language_info": {
   "codemirror_mode": {
    "name": "ipython",
    "version": 3
   },
   "file_extension": ".py",
   "mimetype": "text/x-python",
   "name": "python",
   "nbconvert_exporter": "python",
   "pygments_lexer": "ipython3",
   "version": "3.6.4"
  }
 },
 "nbformat": 4,
 "nbformat_minor": 2
}
